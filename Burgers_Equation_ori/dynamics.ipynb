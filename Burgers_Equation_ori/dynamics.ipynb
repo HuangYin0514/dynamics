{
 "cells": [
  {
   "cell_type": "markdown",
   "id": "19394d91",
   "metadata": {
    "papermill": {
     "duration": 0.01432,
     "end_time": "2022-01-24T14:43:58.755253",
     "exception": false,
     "start_time": "2022-01-24T14:43:58.740933",
     "status": "completed"
    },
    "tags": []
   },
   "source": [
    "# Attribute\n",
    "\n",
    "**Original Work**: *Maziar Raissi, Paris Perdikaris, and George Em Karniadakis*\n"
   ]
  },
  {
   "cell_type": "markdown",
   "id": "c897bde4",
   "metadata": {
    "papermill": {
     "duration": 0.012546,
     "end_time": "2022-01-24T14:43:58.782834",
     "exception": false,
     "start_time": "2022-01-24T14:43:58.770288",
     "status": "completed"
    },
    "tags": []
   },
   "source": [
    "## Kaggle Run Env"
   ]
  },
  {
   "cell_type": "code",
   "execution_count": 1,
   "id": "e532612c",
   "metadata": {
    "execution": {
     "iopub.execute_input": "2022-01-24T14:43:58.823221Z",
     "iopub.status.busy": "2022-01-24T14:43:58.822364Z",
     "iopub.status.idle": "2022-01-24T14:44:01.939664Z",
     "shell.execute_reply": "2022-01-24T14:44:01.938875Z",
     "shell.execute_reply.started": "2022-01-24T14:38:08.775529Z"
    },
    "papermill": {
     "duration": 3.144481,
     "end_time": "2022-01-24T14:44:01.939855",
     "exception": false,
     "start_time": "2022-01-24T14:43:58.795374",
     "status": "completed"
    },
    "tags": []
   },
   "outputs": [
    {
     "name": "stdout",
     "output_type": "stream",
     "text": [
      "/kaggle/working\n",
      "Cloning into 'dynamics'...\r\n",
      "remote: Enumerating objects: 679, done.\u001B[K\r\n",
      "remote: Counting objects: 100% (679/679), done.\u001B[K\r\n",
      "remote: Compressing objects: 100% (490/490), done.\u001B[K\r\n",
      "remote: Total 679 (delta 356), reused 495 (delta 175), pack-reused 0\u001B[K\r\n",
      "Receiving objects: 100% (679/679), 5.78 MiB | 12.92 MiB/s, done.\r\n",
      "Resolving deltas: 100% (356/356), done.\r\n",
      "/kaggle/working/dynamics/Burgers_Equation_ori\n"
     ]
    }
   ],
   "source": [
    "# %cd /kaggle/working/\n",
    "# !rm -rf /kaggle/working/dynamics\n",
    "# !git clone https://github.com/HuangYin0514/dynamics.git\n",
    "# %cd /kaggle/working/dynamics/Burgers_Equation_ori\n",
    "#\n",
    "# import sys\n",
    "# sys.path.append('/kaggle/input/pylib-pydoe/MySitePackages')\n",
    "\n",
    "# !pip install pyDOE"
   ]
  },
  {
   "cell_type": "markdown",
   "id": "c5d166c4",
   "metadata": {
    "papermill": {
     "duration": 0.018248,
     "end_time": "2022-01-24T14:44:01.977373",
     "exception": false,
     "start_time": "2022-01-24T14:44:01.959125",
     "status": "completed"
    },
    "tags": []
   },
   "source": [
    "## Libraries and Dependencies"
   ]
  },
  {
   "cell_type": "code",
   "execution_count": 2,
   "id": "33dbcada",
   "metadata": {
    "execution": {
     "iopub.execute_input": "2022-01-24T14:44:02.019692Z",
     "iopub.status.busy": "2022-01-24T14:44:02.018554Z",
     "iopub.status.idle": "2022-01-24T14:44:04.118398Z",
     "shell.execute_reply": "2022-01-24T14:44:04.117894Z",
     "shell.execute_reply.started": "2022-01-24T14:38:12.104691Z"
    },
    "papermill": {
     "duration": 2.123175,
     "end_time": "2022-01-24T14:44:04.118558",
     "exception": false,
     "start_time": "2022-01-24T14:44:01.995383",
     "status": "completed"
    },
    "tags": []
   },
   "outputs": [],
   "source": [
    "import sys\n",
    "\n",
    "import torch\n",
    "from collections import OrderedDict\n",
    "\n",
    "from pyDOE import lhs\n",
    "import numpy as np\n",
    "import scipy.io\n",
    "from scipy.interpolate import griddata\n",
    "from mpl_toolkits.axes_grid1 import make_axes_locatable\n",
    "from model import DNN\n",
    "\n",
    "np.random.seed(1234)\n"
   ]
  },
  {
   "cell_type": "code",
   "execution_count": 3,
   "id": "dbdce082",
   "metadata": {
    "execution": {
     "iopub.execute_input": "2022-01-24T14:44:04.205783Z",
     "iopub.status.busy": "2022-01-24T14:44:04.204795Z",
     "iopub.status.idle": "2022-01-24T14:44:04.210493Z",
     "shell.execute_reply": "2022-01-24T14:44:04.211225Z",
     "shell.execute_reply.started": "2022-01-24T14:38:12.116513Z"
    },
    "papermill": {
     "duration": 0.074324,
     "end_time": "2022-01-24T14:44:04.211385",
     "exception": false,
     "start_time": "2022-01-24T14:44:04.137061",
     "status": "completed"
    },
    "tags": []
   },
   "outputs": [],
   "source": [
    "# CUDA support\n",
    "if torch.cuda.is_available():\n",
    "    device = torch.device(\"cuda\")\n",
    "else:\n",
    "    device = torch.device(\"cpu\")"
   ]
  },
  {
   "cell_type": "markdown",
   "id": "2518fcaa",
   "metadata": {
    "papermill": {
     "duration": 0.017965,
     "end_time": "2022-01-24T14:44:04.248546",
     "exception": false,
     "start_time": "2022-01-24T14:44:04.230581",
     "status": "completed"
    },
    "tags": []
   },
   "source": [
    "## Physics-informed Neural Networks"
   ]
  },
  {
   "cell_type": "code",
   "execution_count": 4,
   "id": "b65f7839",
   "metadata": {
    "execution": {
     "iopub.execute_input": "2022-01-24T14:44:04.303319Z",
     "iopub.status.busy": "2022-01-24T14:44:04.297978Z",
     "iopub.status.idle": "2022-01-24T14:44:04.311426Z",
     "shell.execute_reply": "2022-01-24T14:44:04.311887Z",
     "shell.execute_reply.started": "2022-01-24T14:38:12.180634Z"
    },
    "papermill": {
     "duration": 0.045617,
     "end_time": "2022-01-24T14:44:04.312024",
     "exception": false,
     "start_time": "2022-01-24T14:44:04.266407",
     "status": "completed"
    },
    "tags": []
   },
   "outputs": [],
   "source": [
    "# the physics-guided neural network\n",
    "class PhysicsInformedNN:\n",
    "    def __init__(self, X_u, u, X_f, layers, lb, ub, nu):\n",
    "\n",
    "        # boundary conditions\n",
    "        self.lb = torch.tensor(lb).float().to(device)\n",
    "        self.ub = torch.tensor(ub).float().to(device)\n",
    "\n",
    "        # data\n",
    "        self.x_u = torch.tensor(X_u[:, 0:1], requires_grad=True).float().to(device)\n",
    "        self.t_u = torch.tensor(X_u[:, 1:2], requires_grad=True).float().to(device)\n",
    "        self.x_f = torch.tensor(X_f[:, 0:1], requires_grad=True).float().to(device)\n",
    "        self.t_f = torch.tensor(X_f[:, 1:2], requires_grad=True).float().to(device)\n",
    "        self.u = torch.tensor(u).float().to(device)\n",
    "\n",
    "        self.layers = layers\n",
    "        self.nu = nu\n",
    "\n",
    "        # deep neural networks\n",
    "        self.dnn = DNN(layers).to(device)\n",
    "\n",
    "        # optimizers: using the same settings\n",
    "        self.optimizer = torch.optim.LBFGS(\n",
    "            self.dnn.parameters(),\n",
    "            lr=1.0,\n",
    "            max_iter=50000,\n",
    "            max_eval=50000,\n",
    "            history_size=50,\n",
    "            tolerance_grad=1e-5,\n",
    "            tolerance_change=1.0 * np.finfo(float).eps,\n",
    "            line_search_fn=\"strong_wolfe\",  # can be \"strong_wolfe\"\n",
    "        )\n",
    "\n",
    "        if not torch.cuda.is_available():\n",
    "            print(\"using cpu for optim...\")\n",
    "            self.optimizer = torch.optim.LBFGS(\n",
    "                self.dnn.parameters(),\n",
    "                lr=1.0,\n",
    "                max_iter=5,\n",
    "                max_eval=5,\n",
    "                history_size=50,\n",
    "                tolerance_grad=1e-5,\n",
    "                tolerance_change=1.0 * np.finfo(float).eps,\n",
    "                line_search_fn=\"strong_wolfe\",  # can be \"strong_wolfe\"\n",
    "            )\n",
    "\n",
    "        self.iter = 0\n",
    "        self.loss = []\n",
    "        self.loss_u = []\n",
    "        self.loss_f = []\n",
    "\n",
    "    def net_u(self, x, t):\n",
    "        u = self.dnn(torch.cat([x, t], dim=1))\n",
    "        return u\n",
    "\n",
    "    def net_f(self, x, t):\n",
    "        \"\"\"The pytorch autograd version of calculating residual\"\"\"\n",
    "        u = self.net_u(x, t)\n",
    "\n",
    "        u_t = torch.autograd.grad(\n",
    "            u, t, grad_outputs=torch.ones_like(u), retain_graph=True, create_graph=True\n",
    "        )[0]\n",
    "        u_x = torch.autograd.grad(\n",
    "            u, x, grad_outputs=torch.ones_like(u), retain_graph=True, create_graph=True\n",
    "        )[0]\n",
    "        u_xx = torch.autograd.grad(\n",
    "            u_x,\n",
    "            x,\n",
    "            grad_outputs=torch.ones_like(u_x),\n",
    "            retain_graph=True,\n",
    "            create_graph=True,\n",
    "        )[0]\n",
    "\n",
    "        f = u_t + u * u_x - self.nu * u_xx\n",
    "        return f\n",
    "\n",
    "    def loss_func(self):\n",
    "        self.optimizer.zero_grad()\n",
    "\n",
    "        u_pred = self.net_u(self.x_u, self.t_u)\n",
    "        f_pred = self.net_f(self.x_f, self.t_f)\n",
    "        loss_u = torch.mean((self.u - u_pred) ** 2)\n",
    "        loss_f = torch.mean(f_pred ** 2)\n",
    "\n",
    "        loss = loss_u + loss_f\n",
    "\n",
    "        loss.backward()\n",
    "        self.iter += 1\n",
    "        \n",
    "\n",
    "        if self.iter % 100 == 0:\n",
    "            \n",
    "            self.loss.append(loss.item())\n",
    "            self.loss_u.append(loss_u.item())\n",
    "            self.loss_f.append(loss_f.item())\n",
    "            \n",
    "            print(\n",
    "                \"Iter %d, Loss: %.5e, Loss_u: %.5e, Loss_f: %.5e\"\n",
    "                % (self.iter, loss.item(), loss_u.item(), loss_f.item())\n",
    "            )\n",
    "        return loss\n",
    "\n",
    "    def train(self):\n",
    "        self.dnn.train()\n",
    "\n",
    "        # Backward and optimize\n",
    "        self.optimizer.step(self.loss_func)\n",
    "\n",
    "    def predict(self, X):\n",
    "        x = torch.tensor(X[:, 0:1], requires_grad=True).float().to(device)\n",
    "        t = torch.tensor(X[:, 1:2], requires_grad=True).float().to(device)\n",
    "\n",
    "        self.dnn.eval()\n",
    "        u = self.net_u(x, t)\n",
    "        f = self.net_f(x, t)\n",
    "        u = u.detach().cpu().numpy()\n",
    "        f = f.detach().cpu().numpy()\n",
    "        return u, f\n"
   ]
  },
  {
   "cell_type": "markdown",
   "id": "da170e16",
   "metadata": {
    "papermill": {
     "duration": 0.017898,
     "end_time": "2022-01-24T14:44:04.348399",
     "exception": false,
     "start_time": "2022-01-24T14:44:04.330501",
     "status": "completed"
    },
    "tags": []
   },
   "source": [
    "## Configurations For Data"
   ]
  },
  {
   "cell_type": "code",
   "execution_count": 5,
   "id": "0c1b7979",
   "metadata": {
    "execution": {
     "iopub.execute_input": "2022-01-24T14:44:04.398668Z",
     "iopub.status.busy": "2022-01-24T14:44:04.397601Z",
     "iopub.status.idle": "2022-01-24T14:44:04.416896Z",
     "shell.execute_reply": "2022-01-24T14:44:04.416476Z",
     "shell.execute_reply.started": "2022-01-24T14:38:12.214385Z"
    },
    "papermill": {
     "duration": 0.050755,
     "end_time": "2022-01-24T14:44:04.417013",
     "exception": false,
     "start_time": "2022-01-24T14:44:04.366258",
     "status": "completed"
    },
    "tags": []
   },
   "outputs": [],
   "source": [
    "nu = 0.01 / np.pi\n",
    "noise = 0.0\n",
    "\n",
    "N_u = 100\n",
    "N_f = 10000\n",
    "layers = [2, 20, 20, 20, 20, 20, 20, 20, 20, 1]\n",
    "\n",
    "data = scipy.io.loadmat(\"data/burgers_shock.mat\")\n",
    "\n",
    "t = data[\"t\"].flatten()[:, None]\n",
    "x = data[\"x\"].flatten()[:, None]\n",
    "Exact = np.real(data[\"usol\"]).T\n",
    "\n",
    "X, T = np.meshgrid(x, t)\n",
    "\n",
    "X_star = np.hstack((X.flatten()[:, None], T.flatten()[:, None]))\n",
    "u_star = Exact.flatten()[:, None]\n",
    "\n",
    "# Doman bounds\n",
    "lb = X_star.min(0)\n",
    "ub = X_star.max(0)\n",
    "\n",
    "xx1 = np.hstack((X[0:1, :].T, T[0:1, :].T))\n",
    "uu1 = Exact[0:1, :].T\n",
    "xx2 = np.hstack((X[:, 0:1], T[:, 0:1]))\n",
    "uu2 = Exact[:, 0:1]\n",
    "xx3 = np.hstack((X[:, -1:], T[:, -1:]))\n",
    "uu3 = Exact[:, -1:]\n",
    "\n",
    "X_u_train = np.vstack([xx1, xx2, xx3])\n",
    "X_f_train = lb + (ub - lb) * lhs(2, N_f)\n",
    "X_f_train = np.vstack((X_f_train, X_u_train))\n",
    "u_train = np.vstack([uu1, uu2, uu3])\n",
    "\n",
    "idx = np.random.choice(X_u_train.shape[0], N_u, replace=False)\n",
    "X_u_train = X_u_train[idx, :]\n",
    "u_train = u_train[idx, :]\n"
   ]
  },
  {
   "cell_type": "markdown",
   "id": "d4b9fe60",
   "metadata": {
    "papermill": {
     "duration": 0.017671,
     "end_time": "2022-01-24T14:44:04.453821",
     "exception": false,
     "start_time": "2022-01-24T14:44:04.436150",
     "status": "completed"
    },
    "tags": []
   },
   "source": [
    "## Training"
   ]
  },
  {
   "cell_type": "code",
   "execution_count": 6,
   "id": "509cd65b",
   "metadata": {
    "execution": {
     "iopub.execute_input": "2022-01-24T14:44:04.495257Z",
     "iopub.status.busy": "2022-01-24T14:44:04.494653Z",
     "iopub.status.idle": "2022-01-24T14:44:07.250821Z",
     "shell.execute_reply": "2022-01-24T14:44:07.250249Z",
     "shell.execute_reply.started": "2022-01-24T14:38:12.255227Z"
    },
    "papermill": {
     "duration": 2.779189,
     "end_time": "2022-01-24T14:44:07.250992",
     "exception": false,
     "start_time": "2022-01-24T14:44:04.471803",
     "status": "completed"
    },
    "tags": []
   },
   "outputs": [],
   "source": [
    "model = PhysicsInformedNN(X_u_train, u_train, X_f_train, layers, lb, ub, nu)\n"
   ]
  },
  {
   "cell_type": "code",
   "execution_count": 7,
   "id": "f6c75a73",
   "metadata": {
    "execution": {
     "iopub.execute_input": "2022-01-24T14:44:07.295035Z",
     "iopub.status.busy": "2022-01-24T14:44:07.294368Z",
     "iopub.status.idle": "2022-01-24T14:46:40.836040Z",
     "shell.execute_reply": "2022-01-24T14:46:40.835545Z",
     "shell.execute_reply.started": "2022-01-24T14:38:16.212798Z"
    },
    "papermill": {
     "duration": 153.566026,
     "end_time": "2022-01-24T14:46:40.836186",
     "exception": false,
     "start_time": "2022-01-24T14:44:07.270160",
     "status": "completed"
    },
    "tags": []
   },
   "outputs": [
    {
     "name": "stdout",
     "output_type": "stream",
     "text": [
      "Iter 100, Loss: 8.04897e-02, Loss_u: 5.52292e-02, Loss_f: 2.52604e-02\n",
      "Iter 200, Loss: 4.48198e-02, Loss_u: 3.15112e-02, Loss_f: 1.33086e-02\n",
      "Iter 300, Loss: 2.94846e-02, Loss_u: 1.86023e-02, Loss_f: 1.08823e-02\n",
      "Iter 400, Loss: 1.53959e-02, Loss_u: 8.83093e-03, Loss_f: 6.56499e-03\n",
      "Iter 500, Loss: 1.12774e-02, Loss_u: 6.37139e-03, Loss_f: 4.90596e-03\n",
      "Iter 600, Loss: 8.73440e-03, Loss_u: 5.30089e-03, Loss_f: 3.43352e-03\n",
      "Iter 700, Loss: 7.02455e-03, Loss_u: 4.14413e-03, Loss_f: 2.88043e-03\n",
      "Iter 800, Loss: 5.26998e-03, Loss_u: 2.47379e-03, Loss_f: 2.79619e-03\n",
      "Iter 900, Loss: 4.11191e-03, Loss_u: 1.82432e-03, Loss_f: 2.28759e-03\n",
      "Iter 1000, Loss: 3.36588e-03, Loss_u: 1.53228e-03, Loss_f: 1.83361e-03\n",
      "Iter 1100, Loss: 2.78923e-03, Loss_u: 1.26529e-03, Loss_f: 1.52394e-03\n",
      "Iter 1200, Loss: 2.27859e-03, Loss_u: 9.64242e-04, Loss_f: 1.31435e-03\n",
      "Iter 1300, Loss: 1.90398e-03, Loss_u: 8.42954e-04, Loss_f: 1.06102e-03\n",
      "Iter 1400, Loss: 1.69328e-03, Loss_u: 7.25621e-04, Loss_f: 9.67661e-04\n",
      "Iter 1500, Loss: 1.51242e-03, Loss_u: 6.79472e-04, Loss_f: 8.32946e-04\n",
      "Iter 1600, Loss: 1.26468e-03, Loss_u: 4.85582e-04, Loss_f: 7.79102e-04\n",
      "Iter 1700, Loss: 1.08866e-03, Loss_u: 3.90800e-04, Loss_f: 6.97856e-04\n",
      "Iter 1800, Loss: 8.65647e-04, Loss_u: 3.00848e-04, Loss_f: 5.64799e-04\n",
      "Iter 1900, Loss: 6.73545e-04, Loss_u: 2.17559e-04, Loss_f: 4.55986e-04\n",
      "Iter 2000, Loss: 5.55599e-04, Loss_u: 1.66053e-04, Loss_f: 3.89546e-04\n",
      "Iter 2100, Loss: 4.87973e-04, Loss_u: 1.48308e-04, Loss_f: 3.39665e-04\n",
      "Iter 2200, Loss: 4.27934e-04, Loss_u: 1.23935e-04, Loss_f: 3.03999e-04\n",
      "Iter 2300, Loss: 3.85741e-04, Loss_u: 1.13297e-04, Loss_f: 2.72444e-04\n",
      "Iter 2400, Loss: 3.00974e-04, Loss_u: 7.22257e-05, Loss_f: 2.28748e-04\n",
      "Iter 2500, Loss: 2.37908e-04, Loss_u: 5.23641e-05, Loss_f: 1.85544e-04\n",
      "Iter 2600, Loss: 2.05757e-04, Loss_u: 4.69030e-05, Loss_f: 1.58854e-04\n",
      "Iter 2700, Loss: 1.89531e-04, Loss_u: 4.65583e-05, Loss_f: 1.42973e-04\n",
      "Iter 2800, Loss: 1.72973e-04, Loss_u: 3.94619e-05, Loss_f: 1.33511e-04\n",
      "Iter 2900, Loss: 1.56306e-04, Loss_u: 3.59430e-05, Loss_f: 1.20363e-04\n",
      "Iter 3000, Loss: 1.42345e-04, Loss_u: 3.45457e-05, Loss_f: 1.07800e-04\n",
      "Iter 3100, Loss: 1.30462e-04, Loss_u: 3.23948e-05, Loss_f: 9.80674e-05\n",
      "Iter 3200, Loss: 1.17257e-04, Loss_u: 3.07212e-05, Loss_f: 8.65358e-05\n",
      "Iter 3300, Loss: 1.02912e-04, Loss_u: 2.50602e-05, Loss_f: 7.78520e-05\n",
      "Iter 3400, Loss: 9.28846e-05, Loss_u: 2.24186e-05, Loss_f: 7.04660e-05\n",
      "Iter 3500, Loss: 8.53479e-05, Loss_u: 2.14704e-05, Loss_f: 6.38776e-05\n",
      "Iter 3600, Loss: 7.87634e-05, Loss_u: 2.06255e-05, Loss_f: 5.81380e-05\n",
      "Iter 3700, Loss: 7.35760e-05, Loss_u: 1.82128e-05, Loss_f: 5.53632e-05\n",
      "Iter 3800, Loss: 6.90130e-05, Loss_u: 1.63010e-05, Loss_f: 5.27119e-05\n",
      "Iter 3900, Loss: 6.45326e-05, Loss_u: 1.54376e-05, Loss_f: 4.90950e-05\n",
      "Iter 4000, Loss: 5.90860e-05, Loss_u: 1.25625e-05, Loss_f: 4.65235e-05\n",
      "Iter 4100, Loss: 5.48140e-05, Loss_u: 1.03398e-05, Loss_f: 4.44742e-05\n",
      "Iter 4200, Loss: 5.10504e-05, Loss_u: 8.31144e-06, Loss_f: 4.27389e-05\n",
      "Iter 4300, Loss: 4.87890e-05, Loss_u: 7.31404e-06, Loss_f: 4.14750e-05\n",
      "Iter 4400, Loss: 4.72382e-05, Loss_u: 7.55628e-06, Loss_f: 3.96819e-05\n",
      "Iter 4500, Loss: 4.57248e-05, Loss_u: 7.77415e-06, Loss_f: 3.79506e-05\n",
      "Iter 4600, Loss: 4.44762e-05, Loss_u: 7.46025e-06, Loss_f: 3.70159e-05\n",
      "Iter 4700, Loss: 4.29703e-05, Loss_u: 6.99917e-06, Loss_f: 3.59711e-05\n",
      "Iter 4800, Loss: 4.22084e-05, Loss_u: 7.07350e-06, Loss_f: 3.51349e-05\n",
      "Iter 4900, Loss: 3.93746e-05, Loss_u: 6.42146e-06, Loss_f: 3.29532e-05\n",
      "Iter 5000, Loss: 3.74502e-05, Loss_u: 5.78594e-06, Loss_f: 3.16643e-05\n",
      "Iter 5100, Loss: 3.59124e-05, Loss_u: 5.63587e-06, Loss_f: 3.02765e-05\n",
      "Iter 5200, Loss: 3.34833e-05, Loss_u: 5.37017e-06, Loss_f: 2.81131e-05\n",
      "Iter 5300, Loss: 3.18369e-05, Loss_u: 4.79432e-06, Loss_f: 2.70426e-05\n",
      "Iter 5400, Loss: 3.01640e-05, Loss_u: 4.28721e-06, Loss_f: 2.58768e-05\n",
      "Iter 5500, Loss: 2.85449e-05, Loss_u: 3.94910e-06, Loss_f: 2.45958e-05\n",
      "Iter 5600, Loss: 2.72033e-05, Loss_u: 3.87635e-06, Loss_f: 2.33270e-05\n",
      "Iter 5700, Loss: 2.58097e-05, Loss_u: 3.73751e-06, Loss_f: 2.20722e-05\n",
      "Iter 5800, Loss: 2.47530e-05, Loss_u: 3.67790e-06, Loss_f: 2.10751e-05\n",
      "Iter 5900, Loss: 2.37194e-05, Loss_u: 3.21099e-06, Loss_f: 2.05084e-05\n",
      "Iter 6000, Loss: 2.26958e-05, Loss_u: 3.06172e-06, Loss_f: 1.96340e-05\n",
      "Iter 6100, Loss: 2.15567e-05, Loss_u: 2.76653e-06, Loss_f: 1.87901e-05\n",
      "Iter 6200, Loss: 2.11179e-05, Loss_u: 2.82116e-06, Loss_f: 1.82967e-05\n",
      "Iter 6300, Loss: 2.03731e-05, Loss_u: 2.72977e-06, Loss_f: 1.76433e-05\n",
      "Iter 6400, Loss: 1.96057e-05, Loss_u: 2.67775e-06, Loss_f: 1.69279e-05\n",
      "Iter 6500, Loss: 1.89446e-05, Loss_u: 2.79100e-06, Loss_f: 1.61536e-05\n",
      "Iter 6600, Loss: 1.83604e-05, Loss_u: 2.71551e-06, Loss_f: 1.56449e-05\n",
      "Iter 6700, Loss: 1.76134e-05, Loss_u: 2.76161e-06, Loss_f: 1.48518e-05\n",
      "Iter 6800, Loss: 1.69331e-05, Loss_u: 2.68556e-06, Loss_f: 1.42476e-05\n",
      "Iter 6900, Loss: 1.63953e-05, Loss_u: 2.54049e-06, Loss_f: 1.38548e-05\n",
      "Iter 7000, Loss: 1.59966e-05, Loss_u: 2.54133e-06, Loss_f: 1.34553e-05\n",
      "Iter 7100, Loss: 1.56331e-05, Loss_u: 2.53435e-06, Loss_f: 1.30988e-05\n",
      "Iter 7200, Loss: 1.52844e-05, Loss_u: 2.53071e-06, Loss_f: 1.27537e-05\n",
      "Iter 7300, Loss: 1.48453e-05, Loss_u: 2.53995e-06, Loss_f: 1.23053e-05\n",
      "Iter 7400, Loss: 1.45637e-05, Loss_u: 2.60908e-06, Loss_f: 1.19546e-05\n",
      "Iter 7500, Loss: 1.41651e-05, Loss_u: 2.56571e-06, Loss_f: 1.15994e-05\n",
      "Iter 7600, Loss: 1.36991e-05, Loss_u: 2.60036e-06, Loss_f: 1.10987e-05\n",
      "Iter 7700, Loss: 1.34205e-05, Loss_u: 2.60463e-06, Loss_f: 1.08159e-05\n",
      "Iter 7800, Loss: 1.31475e-05, Loss_u: 2.51003e-06, Loss_f: 1.06375e-05\n",
      "Iter 7900, Loss: 1.28714e-05, Loss_u: 2.47021e-06, Loss_f: 1.04012e-05\n",
      "Iter 8000, Loss: 1.26592e-05, Loss_u: 2.46488e-06, Loss_f: 1.01943e-05\n",
      "CPU times: user 2min 32s, sys: 1.53 s, total: 2min 33s\n",
      "Wall time: 2min 33s\n"
     ]
    }
   ],
   "source": [
    "%%time\n",
    "               \n",
    "model.train()"
   ]
  },
  {
   "cell_type": "code",
   "execution_count": 8,
   "id": "c502eace",
   "metadata": {
    "execution": {
     "iopub.execute_input": "2022-01-24T14:46:40.922912Z",
     "iopub.status.busy": "2022-01-24T14:46:40.919632Z",
     "iopub.status.idle": "2022-01-24T14:46:41.426457Z",
     "shell.execute_reply": "2022-01-24T14:46:41.425986Z",
     "shell.execute_reply.started": "2022-01-24T14:42:14.626105Z"
    },
    "papermill": {
     "duration": 0.550599,
     "end_time": "2022-01-24T14:46:41.426607",
     "exception": false,
     "start_time": "2022-01-24T14:46:40.876008",
     "status": "completed"
    },
    "tags": []
   },
   "outputs": [
    {
     "name": "stdout",
     "output_type": "stream",
     "text": [
      "Error u: 1.569960e-02\n"
     ]
    }
   ],
   "source": [
    "u_pred, f_pred = model.predict(X_star)\n",
    "\n",
    "error_u = np.linalg.norm(u_star - u_pred, 2) / np.linalg.norm(u_star, 2)\n",
    "print(\"Error u: %e\" % (error_u))\n",
    "\n",
    "U_pred = griddata(X_star, u_pred.flatten(), (X, T), method=\"cubic\")\n",
    "Error = np.abs(Exact - U_pred)\n"
   ]
  },
  {
   "cell_type": "markdown",
   "id": "0b321040",
   "metadata": {
    "papermill": {
     "duration": 0.038343,
     "end_time": "2022-01-24T14:46:41.504054",
     "exception": false,
     "start_time": "2022-01-24T14:46:41.465711",
     "status": "completed"
    },
    "tags": []
   },
   "source": [
    "## Visualizations"
   ]
  },
  {
   "cell_type": "code",
   "execution_count": 9,
   "id": "f1a17cfa",
   "metadata": {
    "execution": {
     "iopub.execute_input": "2022-01-24T14:46:41.586081Z",
     "iopub.status.busy": "2022-01-24T14:46:41.585548Z",
     "iopub.status.idle": "2022-01-24T14:46:41.588955Z",
     "shell.execute_reply": "2022-01-24T14:46:41.588537Z",
     "shell.execute_reply.started": "2022-01-24T14:42:15.202270Z"
    },
    "papermill": {
     "duration": 0.046315,
     "end_time": "2022-01-24T14:46:41.589076",
     "exception": false,
     "start_time": "2022-01-24T14:46:41.542761",
     "status": "completed"
    },
    "tags": []
   },
   "outputs": [],
   "source": [
    "import matplotlib.pyplot as plt\n",
    "import matplotlib.gridspec as gridspec"
   ]
  },
  {
   "cell_type": "code",
   "execution_count": 10,
   "id": "698fb79d",
   "metadata": {
    "execution": {
     "iopub.execute_input": "2022-01-24T14:46:41.683649Z",
     "iopub.status.busy": "2022-01-24T14:46:41.682751Z",
     "iopub.status.idle": "2022-01-24T14:46:42.173348Z",
     "shell.execute_reply": "2022-01-24T14:46:42.173783Z",
     "shell.execute_reply.started": "2022-01-24T14:42:15.211762Z"
    },
    "papermill": {
     "duration": 0.544961,
     "end_time": "2022-01-24T14:46:42.173947",
     "exception": false,
     "start_time": "2022-01-24T14:46:41.628986",
     "status": "completed"
    },
    "tags": []
   },
   "outputs": [
    {
     "data": {
      "image/png": "[encoded data removed]",
      "text/plain": [
       "<Figure size 648x360 with 2 Axes>"
      ]
     },
     "metadata": {
      "needs_background": "light"
     },
     "output_type": "display_data"
    }
   ],
   "source": [
    "fig = plt.figure(figsize=(9, 5))\n",
    "ax = fig.add_subplot(111)\n",
    "\n",
    "h = ax.imshow(U_pred.T, interpolation='nearest', cmap='rainbow', \n",
    "              extent=[t.min(), t.max(), x.min(), x.max()], \n",
    "              origin='lower', aspect='auto')\n",
    "divider = make_axes_locatable(ax)\n",
    "cax = divider.append_axes(\"right\", size=\"5%\", pad=0.10)\n",
    "cbar = fig.colorbar(h, cax=cax)\n",
    "cbar.ax.tick_params(labelsize=15) \n",
    "\n",
    "ax.plot(\n",
    "    X_u_train[:,1], \n",
    "    X_u_train[:,0], \n",
    "    'kx', label = 'Data (%d points)' % (u_train.shape[0]), \n",
    "    markersize = 4,  # marker size doubled\n",
    "    clip_on = False,\n",
    "    alpha=1.0\n",
    ")\n",
    "\n",
    "line = np.linspace(x.min(), x.max(), 2)[:,None]\n",
    "ax.plot(t[25]*np.ones((2,1)), line, 'w-', linewidth = 1)\n",
    "ax.plot(t[50]*np.ones((2,1)), line, 'w-', linewidth = 1)\n",
    "ax.plot(t[75]*np.ones((2,1)), line, 'w-', linewidth = 1)\n",
    "\n",
    "ax.set_xlabel('$t$', size=20)\n",
    "ax.set_ylabel('$x$', size=20)\n",
    "ax.legend(\n",
    "    loc='upper center', \n",
    "    bbox_to_anchor=(0.9, -0.05), \n",
    "    ncol=5, \n",
    "    frameon=False, \n",
    "    prop={'size': 15}\n",
    ")\n",
    "ax.set_title('$u(t,x)$', fontsize = 20) # font size doubled\n",
    "ax.tick_params(labelsize=15)\n",
    "\n",
    "plt.show()\n"
   ]
  },
  {
   "cell_type": "code",
   "execution_count": 11,
   "id": "dfbc2342",
   "metadata": {
    "execution": {
     "iopub.execute_input": "2022-01-24T14:46:42.282165Z",
     "iopub.status.busy": "2022-01-24T14:46:42.280682Z",
     "iopub.status.idle": "2022-01-24T14:46:42.788032Z",
     "shell.execute_reply": "2022-01-24T14:46:42.787590Z",
     "shell.execute_reply.started": "2022-01-24T14:42:15.866465Z"
    },
    "papermill": {
     "duration": 0.574071,
     "end_time": "2022-01-24T14:46:42.788164",
     "exception": false,
     "start_time": "2022-01-24T14:46:42.214093",
     "status": "completed"
    },
    "tags": []
   },
   "outputs": [
    {
     "data": {
      "image/png": "[encoded data removed]",
      "text/plain": [
       "<Figure size 1008x720 with 3 Axes>"
      ]
     },
     "metadata": {
      "needs_background": "light"
     },
     "output_type": "display_data"
    }
   ],
   "source": [
    "\n",
    "fig = plt.figure(figsize=(14, 10))\n",
    "ax = fig.add_subplot(111)\n",
    "\n",
    "gs1 = gridspec.GridSpec(1, 3)\n",
    "gs1.update(top=1-1.0/3.0-0.1, bottom=1.0-2.0/3.0, left=0.1, right=0.9, wspace=0.5)\n",
    "\n",
    "ax = plt.subplot(gs1[0, 0])\n",
    "ax.plot(x,Exact[25,:], 'b-', linewidth = 2, label = 'Exact')       \n",
    "ax.plot(x,U_pred[25,:], 'r--', linewidth = 2, label = 'Prediction')\n",
    "ax.set_xlabel('$x$')\n",
    "ax.set_ylabel('$u(t,x)$')    \n",
    "ax.set_title('$t = 0.25$', fontsize = 15)\n",
    "ax.axis('square')\n",
    "ax.set_xlim([-1.1,1.1])\n",
    "ax.set_ylim([-1.1,1.1])\n",
    "\n",
    "for item in ([ax.title, ax.xaxis.label, ax.yaxis.label] +\n",
    "             ax.get_xticklabels() + ax.get_yticklabels()):\n",
    "    item.set_fontsize(15)\n",
    "\n",
    "ax = plt.subplot(gs1[0, 1])\n",
    "ax.plot(x,Exact[50,:], 'b-', linewidth = 2, label = 'Exact')       \n",
    "ax.plot(x,U_pred[50,:], 'r--', linewidth = 2, label = 'Prediction')\n",
    "ax.set_xlabel('$x$')\n",
    "ax.set_ylabel('$u(t,x)$')\n",
    "ax.axis('square')\n",
    "ax.set_xlim([-1.1,1.1])\n",
    "ax.set_ylim([-1.1,1.1])\n",
    "ax.set_title('$t = 0.50$', fontsize = 15)\n",
    "ax.legend(\n",
    "    loc='upper center', \n",
    "    bbox_to_anchor=(0.5, -0.15), \n",
    "    ncol=5, \n",
    "    frameon=False, \n",
    "    prop={'size': 15}\n",
    ")\n",
    "\n",
    "for item in ([ax.title, ax.xaxis.label, ax.yaxis.label] +\n",
    "             ax.get_xticklabels() + ax.get_yticklabels()):\n",
    "    item.set_fontsize(15)\n",
    "\n",
    "ax = plt.subplot(gs1[0, 2])\n",
    "ax.plot(x,Exact[75,:], 'b-', linewidth = 2, label = 'Exact')       \n",
    "ax.plot(x,U_pred[75,:], 'r--', linewidth = 2, label = 'Prediction')\n",
    "ax.set_xlabel('$x$')\n",
    "ax.set_ylabel('$u(t,x)$')\n",
    "ax.axis('square')\n",
    "ax.set_xlim([-1.1,1.1])\n",
    "ax.set_ylim([-1.1,1.1])    \n",
    "ax.set_title('$t = 0.75$', fontsize = 15)\n",
    "\n",
    "for item in ([ax.title, ax.xaxis.label, ax.yaxis.label] +\n",
    "             ax.get_xticklabels() + ax.get_yticklabels()):\n",
    "    item.set_fontsize(15)\n",
    "\n",
    "plt.show()"
   ]
  },
  {
   "cell_type": "code",
   "execution_count": 12,
   "id": "bbb567be",
   "metadata": {
    "execution": {
     "iopub.execute_input": "2022-01-24T14:46:42.907846Z",
     "iopub.status.busy": "2022-01-24T14:46:42.903037Z",
     "iopub.status.idle": "2022-01-24T14:46:43.143975Z",
     "shell.execute_reply": "2022-01-24T14:46:43.143546Z",
     "shell.execute_reply.started": "2022-01-24T14:42:16.826435Z"
    },
    "papermill": {
     "duration": 0.314088,
     "end_time": "2022-01-24T14:46:43.144101",
     "exception": false,
     "start_time": "2022-01-24T14:46:42.830013",
     "status": "completed"
    },
    "tags": []
   },
   "outputs": [
    {
     "data": {
      "image/png": "[encoded data removed]",
      "text/plain": [
       "<Figure size 1440x720 with 1 Axes>"
      ]
     },
     "metadata": {
      "needs_background": "light"
     },
     "output_type": "display_data"
    }
   ],
   "source": [
    "show_interval=0\n",
    "\n",
    "fig = plt.figure(figsize=(20, 10))\n",
    "ax = fig.add_subplot(111)\n",
    "ax.plot(model.loss[show_interval:], label=\"loss\")\n",
    "ax.plot(model.loss_u[show_interval:], label=\"loss_u\")\n",
    "ax.plot(model.loss_f[show_interval:], label=\"loss_f\")\n",
    "ax.set_xlabel('$iter$')\n",
    "ax.set_ylabel('$loss$')\n",
    "plt.legend()\n",
    "plt.show()"
   ]
  },
  {
   "cell_type": "code",
   "execution_count": null,
   "id": "3ee4a17e",
   "metadata": {
    "papermill": {
     "duration": 0.043011,
     "end_time": "2022-01-24T14:46:43.229573",
     "exception": false,
     "start_time": "2022-01-24T14:46:43.186562",
     "status": "completed"
    },
    "tags": []
   },
   "outputs": [],
   "source": []
  }
 ],
 "metadata": {
  "kernelspec": {
   "display_name": "Python 3",
   "language": "python",
   "name": "python3"
  },
  "language_info": {
   "codemirror_mode": {
    "name": "ipython",
    "version": 3
   },
   "file_extension": ".py",
   "mimetype": "text/x-python",
   "name": "python",
   "nbconvert_exporter": "python",
   "pygments_lexer": "ipython3",
   "version": "3.7.12"
  },
  "papermill": {
   "default_parameters": {},
   "duration": 173.84732,
   "end_time": "2022-01-24T14:46:44.382920",
   "environment_variables": {},
   "exception": null,
   "input_path": "__notebook__.ipynb",
   "output_path": "__notebook__.ipynb",
   "parameters": {},
   "start_time": "2022-01-24T14:43:50.535600",
   "version": "2.3.3"
  }
 },
 "nbformat": 4,
 "nbformat_minor": 5
}