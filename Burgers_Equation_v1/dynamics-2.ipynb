{
 "cells": [
  {
   "cell_type": "markdown",
   "metadata": {},
   "source": [
    "# Attribute\n",
    "\n",
    "**Original Work**: *Maziar Raissi, Paris Perdikaris, and George Em Karniadakis*\n"
   ]
  },
  {
   "cell_type": "markdown",
   "metadata": {},
   "source": [
    "## Kaggle Run Env"
   ]
  },
  {
   "cell_type": "code",
   "execution_count": 15,
   "metadata": {
    "execution": {
     "iopub.execute_input": "2022-01-24T03:42:17.984263Z",
     "iopub.status.busy": "2022-01-24T03:42:17.983799Z",
     "iopub.status.idle": "2022-01-24T03:42:21.408773Z",
     "shell.execute_reply": "2022-01-24T03:42:21.407815Z",
     "shell.execute_reply.started": "2022-01-24T03:42:17.984181Z"
    },
    "trusted": true
   },
   "outputs": [],
   "source": [
    "# %cd /kaggle/working/\n",
    "# !rm -rf /kaggle/working/dynamics\n",
    "# !git clone https://github.com/HuangYin0514/dynamics.git\n",
    "# %cd /kaggle/working/dynamics/Burgers_Equation_v1\n",
    "\n",
    "# import sys\n",
    "# sys.path.append('/kaggle/input/dynamics/mysitepackages')\n",
    "\n",
    "# !pip install pyDOE"
   ]
  },
  {
   "cell_type": "markdown",
   "metadata": {},
   "source": [
    "## Libraries and Dependencies"
   ]
  },
  {
   "cell_type": "code",
   "execution_count": 16,
   "metadata": {
    "execution": {
     "iopub.execute_input": "2022-01-24T03:42:21.411587Z",
     "iopub.status.busy": "2022-01-24T03:42:21.411102Z",
     "iopub.status.idle": "2022-01-24T03:42:23.488912Z",
     "shell.execute_reply": "2022-01-24T03:42:23.488143Z",
     "shell.execute_reply.started": "2022-01-24T03:42:21.411546Z"
    },
    "trusted": true
   },
   "outputs": [],
   "source": [
    "import random\n",
    "\n",
    "import numpy as np\n",
    "import scipy.io\n",
    "import torch\n",
    "from mpl_toolkits.axes_grid1 import make_axes_locatable\n",
    "from pyDOE import lhs\n",
    "from scipy.interpolate import griddata\n",
    "\n",
    "from model import DNN"
   ]
  },
  {
   "cell_type": "code",
   "metadata": {
    "execution": {
     "iopub.execute_input": "2022-01-24T03:42:23.492361Z",
     "iopub.status.busy": "2022-01-24T03:42:23.492160Z",
     "iopub.status.idle": "2022-01-24T03:42:23.541204Z",
     "shell.execute_reply": "2022-01-24T03:42:23.540523Z",
     "shell.execute_reply.started": "2022-01-24T03:42:23.492336Z"
    },
    "trusted": true,
    "pycharm": {
     "name": "#%%\n"
    }
   },
   "source": [
    "def init_random_state():\n",
    "    random_seed = 1234\n",
    "    torch.manual_seed(random_seed)\n",
    "    torch.cuda.manual_seed_all(random_seed)\n",
    "    torch.cuda.manual_seed(random_seed)\n",
    "    np.random.seed(random_seed)  # Numpy module.\n",
    "    random.seed(random_seed)  # Python random module.\n",
    "    # speed up compution\n",
    "    torch.backends.cudnn.deterministic = True\n",
    "    torch.backends.cudnn.benchmark = True\n",
    "\n",
    "\n",
    "init_random_state()\n",
    "\n",
    "# CUDA support\n",
    "if torch.cuda.is_available():\n",
    "    device = torch.device(\"cuda\")\n",
    "else:\n",
    "    device = torch.device(\"cpu\")"
   ],
   "execution_count": 17,
   "outputs": []
  },
  {
   "cell_type": "markdown",
   "metadata": {},
   "source": [
    "## Physics-informed Neural Networks"
   ]
  },
  {
   "cell_type": "code",
   "execution_count": 18,
   "outputs": [],
   "source": [
    "# the physics-guided neural network\n",
    "class PhysicsInformedNN:\n",
    "    def __init__(self, X_u, u, X_f, layers, lb, ub, nu):\n",
    "\n",
    "        # boundary conditions\n",
    "        self.lb = torch.tensor(lb).float().to(device)\n",
    "        self.ub = torch.tensor(ub).float().to(device)\n",
    "\n",
    "        # data\n",
    "        self.x_u = torch.tensor(X_u[:, 0:1], requires_grad=True).float().to(device)\n",
    "        self.t_u = torch.tensor(X_u[:, 1:2], requires_grad=True).float().to(device)\n",
    "        self.x_f = torch.tensor(X_f[:, 0:1], requires_grad=True).float().to(device)\n",
    "        self.t_f = torch.tensor(X_f[:, 1:2], requires_grad=True).float().to(device)\n",
    "        self.u = torch.tensor(u).float().to(device)\n",
    "\n",
    "        self.layers = layers\n",
    "        self.nu = nu\n",
    "\n",
    "        # deep neural networks\n",
    "        self.dnn = DNN(layers).to(device)\n",
    "\n",
    "        # iterations\n",
    "        self.Adam_nIter = 500\n",
    "        self.Current_Iter = 0\n",
    "\n",
    "        # loss function\n",
    "        self.MSELoss = torch.nn.MSELoss()\n",
    "\n",
    "        # optimizers: using the same settings\n",
    "        self.optimizer = torch.optim.LBFGS(\n",
    "            self.dnn.parameters(),\n",
    "            lr=1.0,\n",
    "            max_iter=50000,\n",
    "            max_eval=50000,\n",
    "            history_size=50,\n",
    "            tolerance_grad=1e-5,\n",
    "            tolerance_change=1.0 * np.finfo(float).eps,\n",
    "            line_search_fn=\"strong_wolfe\",  # can be \"strong_wolfe\"\n",
    "        )\n",
    "        self.optimizer_Adam = torch.optim.Adam(\n",
    "            self.dnn.parameters(),\n",
    "            lr=1e-3,\n",
    "            betas=(0.9, 0.999),\n",
    "            eps=1e-8,\n",
    "        )\n",
    "\n",
    "        if not torch.cuda.is_available():\n",
    "            print(\"using cpu for optim...\")\n",
    "            self.optimizer = torch.optim.LBFGS(\n",
    "                self.dnn.parameters(),\n",
    "                lr=1.0,\n",
    "                max_iter=5,\n",
    "                max_eval=5,\n",
    "                history_size=50,\n",
    "                tolerance_grad=1e-5,\n",
    "                tolerance_change=1.0 * np.finfo(float).eps,\n",
    "                line_search_fn=\"strong_wolfe\",  # can be \"strong_wolfe\"\n",
    "            )\n",
    "            self.Adam_nIter = 3\n",
    "\n",
    "        self.loss = []\n",
    "        self.loss_u = []\n",
    "        self.loss_f = []\n",
    "\n",
    "    def net_u(self, x, t):\n",
    "        u = self.dnn(torch.cat([x, t], dim=1))\n",
    "        return u\n",
    "\n",
    "    def net_f(self, x, t):\n",
    "        \"\"\"The pytorch autograd version of calculating residual\"\"\"\n",
    "        u = self.net_u(x, t)\n",
    "\n",
    "        u_t = torch.autograd.grad(\n",
    "            u, t, grad_outputs=torch.ones_like(u), retain_graph=True, create_graph=True\n",
    "        )[0]\n",
    "        u_x = torch.autograd.grad(\n",
    "            u, x, grad_outputs=torch.ones_like(u), retain_graph=True, create_graph=True\n",
    "        )[0]\n",
    "        u_xx = torch.autograd.grad(\n",
    "            u_x,\n",
    "            x,\n",
    "            grad_outputs=torch.ones_like(u_x),\n",
    "            retain_graph=True,\n",
    "            create_graph=True,\n",
    "        )[0]\n",
    "\n",
    "        f = u_t + u * u_x - self.nu * u_xx\n",
    "        return f\n",
    "\n",
    "    def compute_loss(self):\n",
    "        u_pred = self.net_u(self.x_u, self.t_u)\n",
    "        f_pred = self.net_f(self.x_f, self.t_f)\n",
    "        loss_u = self.MSELoss(self.u, u_pred)\n",
    "        loss_f = torch.mean(f_pred ** 2)\n",
    "\n",
    "        loss = loss_u + loss_f\n",
    "\n",
    "        return loss, loss_u, loss_f\n",
    "\n",
    "    def loss_func(self):\n",
    "\n",
    "        loss, loss_u, loss_f = self.compute_loss()\n",
    "\n",
    "        self.optimizer.zero_grad()\n",
    "        loss.backward()\n",
    "        self.Current_Iter += 1\n",
    "\n",
    "        if self.Current_Iter % 100 == 0:\n",
    "            self.loss.append(loss.item())\n",
    "            self.loss_u.append(loss_u.item())\n",
    "            self.loss_f.append(loss_f.item())\n",
    "\n",
    "            print(\n",
    "                \"Current_iter %d, Loss: %.5e, Loss_u: %.5e, Loss_f: %.5e\"\n",
    "                % (self.Current_Iter, loss.item(), loss_u.item(), loss_f.item())\n",
    "            )\n",
    "        return loss\n",
    "\n",
    "    def train(self):\n",
    "        self.dnn.train()\n",
    "\n",
    "        # adam优化\n",
    "        for epoch in range(self.Adam_nIter):\n",
    "\n",
    "            loss, loss_u, loss_f = self.compute_loss()\n",
    "\n",
    "            self.optimizer_Adam.zero_grad()\n",
    "            loss.backward()\n",
    "            self.optimizer_Adam.step()\n",
    "\n",
    "            if epoch % 100 == 0:\n",
    "                print(\n",
    "                    \"Adam ----> It: {}, Loss: {}\".format(\n",
    "                        epoch,\n",
    "                        loss.item(),\n",
    "                    )\n",
    "                )\n",
    "\n",
    "        # lbsf 优化  Backward and optimize\n",
    "        self.optimizer.step(self.loss_func)\n",
    "\n",
    "    def predict(self, X):\n",
    "        x = torch.tensor(X[:, 0:1], requires_grad=True).float().to(device)\n",
    "        t = torch.tensor(X[:, 1:2], requires_grad=True).float().to(device)\n",
    "\n",
    "        self.dnn.eval()\n",
    "        u = self.net_u(x, t)\n",
    "        f = self.net_f(x, t)\n",
    "        u = u.detach().cpu().numpy()\n",
    "        f = f.detach().cpu().numpy()\n",
    "        return u, f\n"
   ],
   "metadata": {
    "collapsed": false,
    "pycharm": {
     "name": "#%%\n"
    }
   }
  },
  {
   "cell_type": "markdown",
   "source": [
    "## Configurations For Data"
   ],
   "metadata": {
    "collapsed": false
   }
  },
  {
   "cell_type": "code",
   "execution_count": 19,
   "outputs": [],
   "source": [
    "nu = 0.01 / np.pi\n",
    "noise = 0.0\n",
    "\n",
    "N_u = 100\n",
    "N_f = 10000\n",
    "layers = [2, 20, 20, 20, 20, 20, 20, 20, 20, 1]\n",
    "\n",
    "data = scipy.io.loadmat(\"data/burgers_shock.mat\")\n",
    "Exact = np.real(data[\"usol\"]).T\n",
    "\n",
    "lb = np.array([-1.0, 0.0])\n",
    "ub = np.array([1.0, 1.0])  # (X,T)\n",
    "\n",
    "n_t = 100\n",
    "n_x = 256\n",
    "\n",
    "t = np.linspace(lb[1], ub[1], n_t).flatten()[:, None]\n",
    "x = np.linspace(lb[0], ub[0], n_x).flatten()[:, None]\n",
    "\n",
    "X, T = np.meshgrid(x, t)  # X(n_t,n_x) T(n_t,n_x)\n",
    "X_star = np.hstack((X.flatten()[:, None], T.flatten()[:, None]))  # (n_x*n_t, 2)\n",
    "u_star = Exact.flatten()[:, None]\n",
    "\n",
    "xx1 = np.hstack((X[0:1, :].T, T[0:1, :].T))  # 左\n",
    "uu1 = -1 * np.sin(xx1 * np.pi)[:, 0][:, None]\n",
    "xx2 = np.hstack((X[:, 0:1], T[:, 0:1]))  # 下\n",
    "uu2 = np.zeros([n_t, 1])\n",
    "xx3 = np.hstack((X[:, -1:], T[:, -1:]))  # 上\n",
    "uu3 = np.zeros([n_t, 1])\n",
    "\n",
    "# all bounds constraints\n",
    "X_u_train = np.vstack([xx1, xx2, xx3])\n",
    "u_train = np.vstack([uu1, uu2, uu3])\n",
    "\n",
    "# pde constraints\n",
    "X_f_train = lb + (ub - lb) * lhs(2, N_f)\n",
    "X_f_train = np.vstack((X_f_train, X_u_train))\n",
    "\n",
    "# ib constraints\n",
    "idx = np.random.choice(X_u_train.shape[0], N_u, replace=False)\n",
    "X_u_train = X_u_train[idx, :]\n",
    "u_train = u_train[idx, :]\n"
   ],
   "metadata": {
    "collapsed": false,
    "pycharm": {
     "name": "#%%\n"
    }
   }
  },
  {
   "cell_type": "markdown",
   "source": [
    "## Training"
   ],
   "metadata": {
    "collapsed": false
   }
  },
  {
   "cell_type": "code",
   "execution_count": 20,
   "outputs": [
    {
     "name": "stdout",
     "output_type": "stream",
     "text": [
      "using cpu for optim...\n"
     ]
    }
   ],
   "source": [
    "model = PhysicsInformedNN(X_u_train, u_train, X_f_train, layers, lb, ub, nu)"
   ],
   "metadata": {
    "collapsed": false,
    "pycharm": {
     "name": "#%%\n"
    }
   }
  },
  {
   "cell_type": "code",
   "execution_count": 21,
   "outputs": [
    {
     "name": "stderr",
     "output_type": "stream",
     "text": [
      "UsageError: Line magic function `%` not found.\n"
     ]
    }
   ],
   "source": [
    "% % time\n",
    "\n",
    "model.train()"
   ],
   "metadata": {
    "collapsed": false,
    "pycharm": {
     "name": "#%%\n"
    }
   }
  },
  {
   "cell_type": "code",
   "execution_count": null,
   "metadata": {
    "execution": {
     "iopub.execute_input": "2022-01-24T03:46:27.231174Z",
     "iopub.status.busy": "2022-01-24T03:46:27.230694Z",
     "iopub.status.idle": "2022-01-24T03:46:27.693728Z",
     "shell.execute_reply": "2022-01-24T03:46:27.692933Z",
     "shell.execute_reply.started": "2022-01-24T03:46:27.231132Z"
    },
    "trusted": true
   },
   "outputs": [],
   "source": [
    "u_pred, f_pred = model.predict(X_star)\n",
    "\n",
    "error_u = np.linalg.norm(u_star - u_pred, 2) / np.linalg.norm(u_star, 2)\n",
    "print(\"Error u: %e\" % error_u)\n",
    "\n",
    "U_pred = griddata(X_star, u_pred.flatten(), (X, T), method=\"cubic\")\n",
    "Error = np.abs(Exact - U_pred)\n"
   ]
  },
  {
   "cell_type": "markdown",
   "metadata": {},
   "source": [
    "## Visualizations"
   ]
  },
  {
   "cell_type": "code",
   "execution_count": null,
   "metadata": {
    "execution": {
     "iopub.status.busy": "2022-01-24T03:44:21.315873Z",
     "iopub.status.idle": "2022-01-24T03:44:21.317222Z",
     "shell.execute_reply": "2022-01-24T03:44:21.316993Z",
     "shell.execute_reply.started": "2022-01-24T03:44:21.316965Z"
    },
    "trusted": true
   },
   "outputs": [],
   "source": [
    "import matplotlib.pyplot as plt\n",
    "import matplotlib.gridspec as gridspec"
   ]
  },
  {
   "cell_type": "code",
   "execution_count": null,
   "metadata": {
    "execution": {
     "iopub.status.busy": "2022-01-24T03:44:21.318541Z",
     "iopub.status.idle": "2022-01-24T03:44:21.319198Z",
     "shell.execute_reply": "2022-01-24T03:44:21.318974Z",
     "shell.execute_reply.started": "2022-01-24T03:44:21.318948Z"
    },
    "trusted": true
   },
   "outputs": [],
   "source": [
    "fig = plt.figure(figsize=(9, 5))\n",
    "ax = fig.add_subplot(111)\n",
    "\n",
    "h = ax.imshow(U_pred.T, interpolation='nearest', cmap='rainbow',\n",
    "              extent=[t.min(), t.max(), x.min(), x.max()],\n",
    "              origin='lower', aspect='auto')\n",
    "divider = make_axes_locatable(ax)\n",
    "cax = divider.append_axes(\"right\", size=\"5%\", pad=0.10)\n",
    "cbar = fig.colorbar(h, cax=cax)\n",
    "cbar.ax.tick_params(labelsize=15)\n",
    "\n",
    "ax.plot(\n",
    "    X_u_train[:, 1],\n",
    "    X_u_train[:, 0],\n",
    "    'kx', label='Data (%d points)' % (u_train.shape[0]),\n",
    "    markersize=4,  # marker size doubled\n",
    "    clip_on=False,\n",
    "    alpha=1.0\n",
    ")\n",
    "\n",
    "line = np.linspace(x.min(), x.max(), 2)[:, None]\n",
    "ax.plot(t[25] * np.ones((2, 1)), line, 'w-', linewidth=1)\n",
    "ax.plot(t[50] * np.ones((2, 1)), line, 'w-', linewidth=1)\n",
    "ax.plot(t[75] * np.ones((2, 1)), line, 'w-', linewidth=1)\n",
    "\n",
    "ax.set_xlabel('$t$', size=20)\n",
    "ax.set_ylabel('$x$', size=20)\n",
    "ax.legend(\n",
    "    loc='upper center',\n",
    "    bbox_to_anchor=(0.9, -0.05),\n",
    "    ncol=5,\n",
    "    frameon=False,\n",
    "    prop={'size': 15}\n",
    ")\n",
    "ax.set_title('$u(t,x)$', fontsize=20)  # font size doubled\n",
    "ax.tick_params(labelsize=15)\n",
    "\n",
    "plt.show()\n"
   ]
  },
  {
   "cell_type": "code",
   "execution_count": null,
   "metadata": {
    "execution": {
     "iopub.status.busy": "2022-01-24T03:44:21.320461Z",
     "iopub.status.idle": "2022-01-24T03:44:21.321122Z",
     "shell.execute_reply": "2022-01-24T03:44:21.320873Z",
     "shell.execute_reply.started": "2022-01-24T03:44:21.320848Z"
    },
    "trusted": true
   },
   "outputs": [],
   "source": [
    "\n",
    "fig = plt.figure(figsize=(14, 10))\n",
    "ax = fig.add_subplot(111)\n",
    "\n",
    "gs1 = gridspec.GridSpec(1, 3)\n",
    "gs1.update(top=1 - 1.0 / 3.0 - 0.1, bottom=1.0 - 2.0 / 3.0, left=0.1, right=0.9, wspace=0.5)\n",
    "\n",
    "ax = plt.subplot(gs1[0, 0])\n",
    "ax.plot(x, Exact[25, :], 'b-', linewidth=2, label='Exact')\n",
    "ax.plot(x, U_pred[25, :], 'r--', linewidth=2, label='Prediction')\n",
    "ax.set_xlabel('$x$')\n",
    "ax.set_ylabel('$u(t,x)$')\n",
    "ax.set_title('$t = 0.25$', fontsize=15)\n",
    "ax.axis('square')\n",
    "ax.set_xlim([-1.1, 1.1])\n",
    "ax.set_ylim([-1.1, 1.1])\n",
    "\n",
    "for item in ([ax.title, ax.xaxis.label, ax.yaxis.label] +\n",
    "             ax.get_xticklabels() + ax.get_yticklabels()):\n",
    "    item.set_fontsize(15)\n",
    "\n",
    "ax = plt.subplot(gs1[0, 1])\n",
    "ax.plot(x, Exact[50, :], 'b-', linewidth=2, label='Exact')\n",
    "ax.plot(x, U_pred[50, :], 'r--', linewidth=2, label='Prediction')\n",
    "ax.set_xlabel('$x$')\n",
    "ax.set_ylabel('$u(t,x)$')\n",
    "ax.axis('square')\n",
    "ax.set_xlim([-1.1, 1.1])\n",
    "ax.set_ylim([-1.1, 1.1])\n",
    "ax.set_title('$t = 0.50$', fontsize=15)\n",
    "ax.legend(\n",
    "    loc='upper center',\n",
    "    bbox_to_anchor=(0.5, -0.15),\n",
    "    ncol=5,\n",
    "    frameon=False,\n",
    "    prop={'size': 15}\n",
    ")\n",
    "\n",
    "for item in ([ax.title, ax.xaxis.label, ax.yaxis.label] +\n",
    "             ax.get_xticklabels() + ax.get_yticklabels()):\n",
    "    item.set_fontsize(15)\n",
    "\n",
    "ax = plt.subplot(gs1[0, 2])\n",
    "ax.plot(x, Exact[75, :], 'b-', linewidth=2, label='Exact')\n",
    "ax.plot(x, U_pred[75, :], 'r--', linewidth=2, label='Prediction')\n",
    "ax.set_xlabel('$x$')\n",
    "ax.set_ylabel('$u(t,x)$')\n",
    "ax.axis('square')\n",
    "ax.set_xlim([-1.1, 1.1])\n",
    "ax.set_ylim([-1.1, 1.1])\n",
    "ax.set_title('$t = 0.75$', fontsize=15)\n",
    "\n",
    "for item in ([ax.title, ax.xaxis.label, ax.yaxis.label] +\n",
    "             ax.get_xticklabels() + ax.get_yticklabels()):\n",
    "    item.set_fontsize(15)\n",
    "\n",
    "plt.show()"
   ]
  },
  {
   "cell_type": "code",
   "execution_count": null,
   "metadata": {
    "execution": {
     "iopub.status.busy": "2022-01-24T03:44:21.322348Z",
     "iopub.status.idle": "2022-01-24T03:44:21.323010Z",
     "shell.execute_reply": "2022-01-24T03:44:21.322780Z",
     "shell.execute_reply.started": "2022-01-24T03:44:21.322754Z"
    },
    "trusted": true
   },
   "outputs": [],
   "source": [
    "show_interval = 0\n",
    "\n",
    "fig = plt.figure(figsize=(20, 10))\n",
    "ax = fig.add_subplot(111)\n",
    "ax.plot(model.loss[show_interval:], label=\"loss\")\n",
    "ax.plot(model.loss_u[show_interval:], label=\"loss_u\")\n",
    "ax.plot(model.loss_f[show_interval:], label=\"loss_f\")\n",
    "ax.set_xlabel('$iter$')\n",
    "ax.set_ylabel('$loss$')\n",
    "plt.legend()\n",
    "plt.show()"
   ]
  },
  {
   "cell_type": "code",
   "execution_count": null,
   "metadata": {},
   "outputs": [],
   "source": []
  }
 ],
 "metadata": {
  "kernelspec": {
   "name": "python396jvsc74a57bd0505d865d0230be50604baac78cc96c3d277b40816292df3699f90663c551bad1",
   "language": "python",
   "display_name": "Python 3.9.6 64-bit ('py396': conda)"
  },
  "language_info": {
   "codemirror_mode": {
    "name": "ipython",
    "version": 3
   },
   "file_extension": ".py",
   "mimetype": "text/x-python",
   "name": "python",
   "nbconvert_exporter": "python",
   "pygments_lexer": "ipython3",
   "version": "3.9.6"
  }
 },
 "nbformat": 4,
 "nbformat_minor": 4
}