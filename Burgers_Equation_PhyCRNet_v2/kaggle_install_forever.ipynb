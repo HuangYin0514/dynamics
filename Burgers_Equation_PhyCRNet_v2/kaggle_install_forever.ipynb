{
 "cells": [
  {
   "cell_type": "markdown",
   "id": "8254aae7",
   "metadata": {
    "_cell_guid": "83576703-11d3-47ea-bcb4-9266a3a5cefb",
    "_uuid": "1d2b5058-927f-4e33-97f7-8dcc96633286",
    "papermill": {
     "duration": 0.005992,
     "end_time": "2022-01-22T14:45:41.287069",
     "exception": false,
     "start_time": "2022-01-22T14:45:41.281077",
     "status": "completed"
    },
    "tags": []
   },
   "source": [
    "## Kaggle Run Env"
   ]
  },
  {
   "cell_type": "code",
   "execution_count": 2,
   "id": "cc1c9d4d",
   "metadata": {
    "execution": {
     "iopub.execute_input": "2022-01-22T14:45:53.035635Z",
     "iopub.status.busy": "2022-01-22T14:45:53.034798Z",
     "iopub.status.idle": "2022-01-22T14:46:12.240902Z",
     "shell.execute_reply": "2022-01-22T14:46:12.239472Z",
     "shell.execute_reply.started": "2022-01-22T14:44:39.057256Z"
    },
    "papermill": {
     "duration": 19.219618,
     "end_time": "2022-01-22T14:46:12.241120",
     "exception": false,
     "start_time": "2022-01-22T14:45:53.021502",
     "status": "completed"
    },
    "tags": []
   },
   "outputs": [
    {
     "name": "stdout",
     "output_type": "stream",
     "text": [
      "Collecting pyDOE\r\n",
      "  Using cached pyDOE-0.3.8-py3-none-any.whl\r\n",
      "Collecting scipy\r\n",
      "  Downloading scipy-1.7.3-cp37-cp37m-manylinux_2_12_x86_64.manylinux2010_x86_64.whl (38.1 MB)\r\n",
      "     |████████████████████████████████| 38.1 MB 242 kB/s            \r\n",
      "\u001B[?25hCollecting numpy\r\n",
      "  Downloading numpy-1.21.5-cp37-cp37m-manylinux_2_12_x86_64.manylinux2010_x86_64.whl (15.7 MB)\r\n",
      "     |████████████████████████████████| 15.7 MB 39.2 MB/s            \r\n",
      "\u001B[?25hInstalling collected packages: numpy, scipy, pyDOE\r\n",
      "\u001B[31mERROR: pip's dependency resolver does not currently take into account all the packages that are installed. This behaviour is the source of the following dependency conflicts.\r\n",
      "tensorflow-io 0.21.0 requires tensorflow-io-gcs-filesystem==0.21.0, which is not installed.\r\n",
      "explainable-ai-sdk 1.3.2 requires xai-image-widget, which is not installed.\r\n",
      "dask-cudf 21.10.1 requires cupy-cuda114, which is not installed.\r\n",
      "cudf 21.10.1 requires cupy-cuda110, which is not installed.\r\n",
      "beatrix-jupyterlab 3.1.4 requires google-cloud-bigquery-storage, which is not installed.\r\n",
      "yellowbrick 1.3.post1 requires numpy<1.20,>=1.16.0, but you have numpy 1.21.5 which is incompatible.\r\n",
      "tsfresh 0.19.0 requires statsmodels>=0.13, but you have statsmodels 0.12.2 which is incompatible.\r\n",
      "tfx-bsl 1.4.0 requires absl-py<0.13,>=0.9, but you have absl-py 0.15.0 which is incompatible.\r\n",
      "tfx-bsl 1.4.0 requires numpy<1.20,>=1.16, but you have numpy 1.21.5 which is incompatible.\r\n",
      "tfx-bsl 1.4.0 requires pyarrow<6,>=1, but you have pyarrow 6.0.1 which is incompatible.\r\n",
      "tfx-bsl 1.4.0 requires tensorflow-metadata<1.5,>=1.4, but you have tensorflow-metadata 1.5.0 which is incompatible.\r\n",
      "tensorflow 2.6.2 requires numpy~=1.19.2, but you have numpy 1.21.5 which is incompatible.\r\n",
      "tensorflow 2.6.2 requires six~=1.15.0, but you have six 1.16.0 which is incompatible.\r\n",
      "tensorflow 2.6.2 requires typing-extensions~=3.7.4, but you have typing-extensions 3.10.0.2 which is incompatible.\r\n",
      "tensorflow 2.6.2 requires wrapt~=1.12.1, but you have wrapt 1.13.3 which is incompatible.\r\n",
      "tensorflow-transform 1.4.0 requires absl-py<0.13,>=0.9, but you have absl-py 0.15.0 which is incompatible.\r\n",
      "tensorflow-transform 1.4.0 requires numpy<1.20,>=1.16, but you have numpy 1.21.5 which is incompatible.\r\n",
      "tensorflow-transform 1.4.0 requires pyarrow<6,>=1, but you have pyarrow 6.0.1 which is incompatible.\r\n",
      "tensorflow-transform 1.4.0 requires tensorflow-metadata<1.5.0,>=1.4.0, but you have tensorflow-metadata 1.5.0 which is incompatible.\r\n",
      "pdpbox 0.2.1 requires matplotlib==3.1.1, but you have matplotlib 3.5.1 which is incompatible.\r\n",
      "numba 0.54.1 requires numpy<1.21,>=1.17, but you have numpy 1.21.5 which is incompatible.\r\n",
      "imbalanced-learn 0.8.1 requires scikit-learn>=0.24, but you have scikit-learn 0.23.2 which is incompatible.\r\n",
      "dask-cudf 21.10.1 requires dask==2021.09.1, but you have dask 2021.12.0 which is incompatible.\r\n",
      "dask-cudf 21.10.1 requires distributed==2021.09.1, but you have distributed 2021.12.0 which is incompatible.\r\n",
      "apache-beam 2.34.0 requires dill<0.3.2,>=0.3.1.1, but you have dill 0.3.4 which is incompatible.\r\n",
      "apache-beam 2.34.0 requires httplib2<0.20.0,>=0.8, but you have httplib2 0.20.2 which is incompatible.\r\n",
      "apache-beam 2.34.0 requires numpy<1.21.0,>=1.14.3, but you have numpy 1.21.5 which is incompatible.\r\n",
      "apache-beam 2.34.0 requires pyarrow<6.0.0,>=0.15.1, but you have pyarrow 6.0.1 which is incompatible.\u001B[0m\r\n",
      "Successfully installed numpy-1.21.5 pyDOE-0.3.8 scipy-1.7.3\r\n",
      "\u001B[33mWARNING: Running pip as the 'root' user can result in broken permissions and conflicting behaviour with the system package manager. It is recommended to use a virtual environment instead: https://pip.pypa.io/warnings/venv\u001B[0m\r\n"
     ]
    }
   ],
   "source": [
    "!pip install pyDOE --target=/kaggle/working/MySitePackages"
   ]
  },
  {
   "cell_type": "code",
   "execution_count": 3,
   "id": "9be6e796",
   "metadata": {
    "execution": {
     "iopub.execute_input": "2022-01-22T14:46:12.333120Z",
     "iopub.status.busy": "2022-01-22T14:46:12.332134Z",
     "iopub.status.idle": "2022-01-22T14:46:12.333855Z",
     "shell.execute_reply": "2022-01-22T14:46:12.334492Z",
     "shell.execute_reply.started": "2022-01-22T14:44:56.410283Z"
    },
    "papermill": {
     "duration": 0.040206,
     "end_time": "2022-01-22T14:46:12.334672",
     "exception": false,
     "start_time": "2022-01-22T14:46:12.294466",
     "status": "completed"
    },
    "tags": []
   },
   "outputs": [],
   "source": [
    "import sys\n",
    "sys.path.append('/kaggle/working/MySitePackages')"
   ]
  },
  {
   "cell_type": "code",
   "execution_count": 4,
   "id": "8d206adc",
   "metadata": {
    "execution": {
     "iopub.execute_input": "2022-01-22T14:46:12.398359Z",
     "iopub.status.busy": "2022-01-22T14:46:12.397482Z",
     "iopub.status.idle": "2022-01-22T14:46:13.118683Z",
     "shell.execute_reply": "2022-01-22T14:46:13.118050Z",
     "shell.execute_reply.started": "2022-01-22T14:45:00.179715Z"
    },
    "papermill": {
     "duration": 0.755341,
     "end_time": "2022-01-22T14:46:13.118829",
     "exception": false,
     "start_time": "2022-01-22T14:46:12.363488",
     "status": "completed"
    },
    "tags": []
   },
   "outputs": [
    {
     "name": "stdout",
     "output_type": "stream",
     "text": [
      "bin\t\t\tnumpy.libs\t       scipy\r\n",
      "numpy\t\t\tpyDOE\t\t       scipy-1.7.3.dist-info\r\n",
      "numpy-1.21.5.dist-info\tpyDOE-0.3.8.dist-info  scipy.libs\r\n"
     ]
    }
   ],
   "source": [
    "!ls /kaggle/working/MySitePackages/"
   ]
  }
 ],
 "metadata": {
  "kernelspec": {
   "display_name": "Python 3",
   "language": "python",
   "name": "python3"
  },
  "language_info": {
   "codemirror_mode": {
    "name": "ipython",
    "version": 3
   },
   "file_extension": ".py",
   "mimetype": "text/x-python",
   "name": "python",
   "nbconvert_exporter": "python",
   "pygments_lexer": "ipython3",
   "version": "3.7.12"
  },
  "papermill": {
   "default_parameters": {},
   "duration": 41.171297,
   "end_time": "2022-01-22T14:46:13.760017",
   "environment_variables": {},
   "exception": null,
   "input_path": "__notebook__.ipynb",
   "output_path": "__notebook__.ipynb",
   "parameters": {},
   "start_time": "2022-01-22T14:45:32.588720",
   "version": "2.3.3"
  }
 },
 "nbformat": 4,
 "nbformat_minor": 5
}